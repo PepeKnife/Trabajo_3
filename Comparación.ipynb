{
 "cells": [
  {
   "cell_type": "markdown",
   "metadata": {},
   "source": [
    "### Hacemos la comparacion de los dos modelos"
   ]
  },
  {
   "cell_type": "code",
   "execution_count": 10,
   "metadata": {},
   "outputs": [],
   "source": [
    "# Cargar los datos\n",
    "import pandas as pd\n",
    "\n",
    "# Cargar el conjunto de datos\n",
    "df = pd.read_csv('Dataset.csv')\n",
    "\n",
    "# Separar las características y la columna objetivo\n",
    "X_test = df.drop('Y', axis=1)  # Asegúrate de reemplazar 'target_column' con tu columna objetivo\n",
    "y_test = df['Y']\n"
   ]
  },
  {
   "cell_type": "code",
   "execution_count": 11,
   "metadata": {},
   "outputs": [
    {
     "ename": "FileNotFoundError",
     "evalue": "[Errno 2] No such file or directory: 'Model1.pkl'",
     "output_type": "error",
     "traceback": [
      "\u001b[1;31m---------------------------------------------------------------------------\u001b[0m",
      "\u001b[1;31mFileNotFoundError\u001b[0m                         Traceback (most recent call last)",
      "Cell \u001b[1;32mIn[11], line 7\u001b[0m\n\u001b[0;32m      4\u001b[0m \u001b[38;5;28;01mimport\u001b[39;00m \u001b[38;5;21;01mnumpy\u001b[39;00m \u001b[38;5;28;01mas\u001b[39;00m \u001b[38;5;21;01mnp\u001b[39;00m\n\u001b[0;32m      6\u001b[0m \u001b[38;5;66;03m# Cargar los modelos guardados\u001b[39;00m\n\u001b[1;32m----> 7\u001b[0m model1 \u001b[38;5;241m=\u001b[39m \u001b[43mjoblib\u001b[49m\u001b[38;5;241;43m.\u001b[39;49m\u001b[43mload\u001b[49m\u001b[43m(\u001b[49m\u001b[38;5;124;43m'\u001b[39;49m\u001b[38;5;124;43mModel1.pkl\u001b[39;49m\u001b[38;5;124;43m'\u001b[39;49m\u001b[43m)\u001b[49m  \u001b[38;5;66;03m# Modelo de regresión logística\u001b[39;00m\n\u001b[0;32m      8\u001b[0m model2 \u001b[38;5;241m=\u001b[39m joblib\u001b[38;5;241m.\u001b[39mload(\u001b[38;5;124m'\u001b[39m\u001b[38;5;124mModel2.pkl\u001b[39m\u001b[38;5;124m'\u001b[39m)  \u001b[38;5;66;03m# Modelo de regresión lineal\u001b[39;00m\n\u001b[0;32m     10\u001b[0m \u001b[38;5;66;03m# Supongamos que tienes datos de prueba X_test y y_test (reemplaza con tus datos reales)\u001b[39;00m\n\u001b[0;32m     11\u001b[0m \u001b[38;5;66;03m# Ejemplo de datos fijos para X_test y y_test (ajusta según el número de características)\u001b[39;00m\n",
      "File \u001b[1;32mc:\\Users\\Jose Giraldo\\anaconda3\\Lib\\site-packages\\joblib\\numpy_pickle.py:650\u001b[0m, in \u001b[0;36mload\u001b[1;34m(filename, mmap_mode)\u001b[0m\n\u001b[0;32m    648\u001b[0m         obj \u001b[38;5;241m=\u001b[39m _unpickle(fobj)\n\u001b[0;32m    649\u001b[0m \u001b[38;5;28;01melse\u001b[39;00m:\n\u001b[1;32m--> 650\u001b[0m     \u001b[38;5;28;01mwith\u001b[39;00m \u001b[38;5;28;43mopen\u001b[39;49m\u001b[43m(\u001b[49m\u001b[43mfilename\u001b[49m\u001b[43m,\u001b[49m\u001b[43m \u001b[49m\u001b[38;5;124;43m'\u001b[39;49m\u001b[38;5;124;43mrb\u001b[39;49m\u001b[38;5;124;43m'\u001b[39;49m\u001b[43m)\u001b[49m \u001b[38;5;28;01mas\u001b[39;00m f:\n\u001b[0;32m    651\u001b[0m         \u001b[38;5;28;01mwith\u001b[39;00m _read_fileobject(f, filename, mmap_mode) \u001b[38;5;28;01mas\u001b[39;00m fobj:\n\u001b[0;32m    652\u001b[0m             \u001b[38;5;28;01mif\u001b[39;00m \u001b[38;5;28misinstance\u001b[39m(fobj, \u001b[38;5;28mstr\u001b[39m):\n\u001b[0;32m    653\u001b[0m                 \u001b[38;5;66;03m# if the returned file object is a string, this means we\u001b[39;00m\n\u001b[0;32m    654\u001b[0m                 \u001b[38;5;66;03m# try to load a pickle file generated with an version of\u001b[39;00m\n\u001b[0;32m    655\u001b[0m                 \u001b[38;5;66;03m# Joblib so we load it with joblib compatibility function.\u001b[39;00m\n",
      "\u001b[1;31mFileNotFoundError\u001b[0m: [Errno 2] No such file or directory: 'Model1.pkl'"
     ]
    }
   ],
   "source": [
    "# compare_models.ipynb\n",
    "import joblib\n",
    "from sklearn.metrics import mean_squared_error, mean_absolute_error, r2_score\n",
    "import numpy as np\n",
    "\n",
    "# Cargar los modelos guardados\n",
    "model1 = joblib.load('Model1.pkl')  # Modelo de regresión logística\n",
    "model2 = joblib.load('Model2.pkl')  # Modelo de regresión lineal\n",
    "\n",
    "# Supongamos que tienes datos de prueba X_test y y_test (reemplaza con tus datos reales)\n",
    "# Ejemplo de datos fijos para X_test y y_test (ajusta según el número de características)\n",
    "X_test = np.array([[1, 2, 3], [4, 5, 6], [7, 8, 9]])  # Ejemplo con 3 características\n",
    "y_test = np.array([1, 0, 1])  # Valores objetivo de ejemplo\n",
    "\n",
    "# Predicciones con ambos modelos\n",
    "y_pred1 = model1.predict(X_test)\n",
    "y_pred2 = model2.predict(X_test)\n",
    "\n",
    "# Calcular métricas para el modelo de regresión logística\n",
    "metrics1 = {\n",
    "    \"MSE\": mean_squared_error(y_test, y_pred1),\n",
    "    \"MAE\": mean_absolute_error(y_test, y_pred1),\n",
    "    \"R2\": r2_score(y_test, y_pred1)\n",
    "}\n",
    "\n",
    "# Calcular métricas para el modelo de regresión lineal\n",
    "metrics2 = {\n",
    "    \"MSE\": mean_squared_error(y_test, y_pred2),\n",
    "    \"MAE\": mean_absolute_error(y_test, y_pred2),\n",
    "    \"R2\": r2_score(y_test, y_pred2)\n",
    "}\n",
    "\n",
    "# Mostrar las métricas de ambos modelos\n",
    "print(\"Logistic Regression Metrics:\", metrics1)\n",
    "print(\"Linear Regression Metrics:\", metrics2)\n"
   ]
  }
 ],
 "metadata": {
  "kernelspec": {
   "display_name": "base",
   "language": "python",
   "name": "python3"
  },
  "language_info": {
   "codemirror_mode": {
    "name": "ipython",
    "version": 3
   },
   "file_extension": ".py",
   "mimetype": "text/x-python",
   "name": "python",
   "nbconvert_exporter": "python",
   "pygments_lexer": "ipython3",
   "version": "3.12.7"
  }
 },
 "nbformat": 4,
 "nbformat_minor": 2
}
